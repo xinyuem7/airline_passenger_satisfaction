{
 "cells": [
  {
   "cell_type": "code",
   "execution_count": 1,
   "id": "2f5a3312",
   "metadata": {
    "_cell_guid": "b1076dfc-b9ad-4769-8c92-a6c4dae69d19",
    "_uuid": "8f2839f25d086af736a60e9eeb907d3b93b6e0e5",
    "execution": {
     "iopub.execute_input": "2022-08-04T21:45:29.399525Z",
     "iopub.status.busy": "2022-08-04T21:45:29.399059Z",
     "iopub.status.idle": "2022-08-04T21:45:29.421916Z",
     "shell.execute_reply": "2022-08-04T21:45:29.420733Z"
    },
    "papermill": {
     "duration": 0.03058,
     "end_time": "2022-08-04T21:45:29.424556",
     "exception": false,
     "start_time": "2022-08-04T21:45:29.393976",
     "status": "completed"
    },
    "tags": []
   },
   "outputs": [
    {
     "name": "stdout",
     "output_type": "stream",
     "text": [
      "/kaggle/input/airline-passenger-satisfaction/train.csv\n",
      "/kaggle/input/airline-passenger-satisfaction/test.csv\n"
     ]
    }
   ],
   "source": [
    "# This Python 3 environment comes with many helpful analytics libraries installed\n",
    "# It is defined by the kaggle/python Docker image: https://github.com/kaggle/docker-python\n",
    "# For example, here's several helpful packages to load\n",
    "\n",
    "import numpy as np # linear algebra\n",
    "import pandas as pd # data processing, CSV file I/O (e.g. pd.read_csv)\n",
    "\n",
    "# Input data files are available in the read-only \"../input/\" directory\n",
    "# For example, running this (by clicking run or pressing Shift+Enter) will list all files under the input directory\n",
    "\n",
    "import os\n",
    "for dirname, _, filenames in os.walk('/kaggle/input'):\n",
    "    for filename in filenames:\n",
    "        print(os.path.join(dirname, filename))\n",
    "\n",
    "# You can write up to 20GB to the current directory (/kaggle/working/) that gets preserved as output when you create a version using \"Save & Run All\" \n",
    "# You can also write temporary files to /kaggle/temp/, but they won't be saved outside of the current session"
   ]
  },
  {
   "cell_type": "markdown",
   "id": "331a73c1",
   "metadata": {
    "papermill": {
     "duration": 0.002032,
     "end_time": "2022-08-04T21:45:29.429264",
     "exception": false,
     "start_time": "2022-08-04T21:45:29.427232",
     "status": "completed"
    },
    "tags": []
   },
   "source": [
    "## Basic Information about the Dataset"
   ]
  },
  {
   "cell_type": "markdown",
   "id": "5343dc44",
   "metadata": {
    "papermill": {
     "duration": 0.001935,
     "end_time": "2022-08-04T21:45:29.433382",
     "exception": false,
     "start_time": "2022-08-04T21:45:29.431447",
     "status": "completed"
    },
    "tags": []
   },
   "source": [
    "## EDA\n",
    "### separate categorical variables from quantitative variables\n",
    "### check missing values\n",
    "### check if the dataset is balanced (plot a pie chart to demonstrate the distribution)\n",
    "### EDA for quantitative variables\n",
    "    - explore the correlations among quantitative variables\n",
    "    - plot histograms\n",
    "### EDA for categorical variables\n",
    "    - plot pie charts to demonstrate distributions for each categorical variable\n",
    "    - plot bar charts to show values of each categorical variable vs. passengers' satisfaction level\n",
    "\n"
   ]
  },
  {
   "cell_type": "markdown",
   "id": "b80954ab",
   "metadata": {
    "papermill": {
     "duration": 0.001927,
     "end_time": "2022-08-04T21:45:29.437436",
     "exception": false,
     "start_time": "2022-08-04T21:45:29.435509",
     "status": "completed"
    },
    "tags": []
   },
   "source": [
    "## Feature Engineering\n",
    "### create dummy variables for categorical variables\n",
    "### normalization for quantitative variables if necessary\n",
    "### feature scaling for quantitative variables if necessary"
   ]
  },
  {
   "cell_type": "markdown",
   "id": "5fd0efee",
   "metadata": {
    "papermill": {
     "duration": 0.001952,
     "end_time": "2022-08-04T21:45:29.441526",
     "exception": false,
     "start_time": "2022-08-04T21:45:29.439574",
     "status": "completed"
    },
    "tags": []
   },
   "source": [
    "## Baseline Model Training\n",
    "### list of models:\n",
    "    * Naive Bayes\n",
    "    * Logistic Regression\n",
    "    * Decision Tree\n",
    "    * Random Forest\n",
    "    * K Nearest Neighbor"
   ]
  },
  {
   "cell_type": "markdown",
   "id": "a541e2ce",
   "metadata": {
    "papermill": {
     "duration": 0.001921,
     "end_time": "2022-08-04T21:45:29.445675",
     "exception": false,
     "start_time": "2022-08-04T21:45:29.443754",
     "status": "completed"
    },
    "tags": []
   },
   "source": [
    "## Model Tuned Performance\n",
    "### potential method\n",
    "    * grid search\n",
    "    * randomized search"
   ]
  },
  {
   "cell_type": "markdown",
   "id": "8ac9df54",
   "metadata": {
    "papermill": {
     "duration": 0.001908,
     "end_time": "2022-08-04T21:45:29.449695",
     "exception": false,
     "start_time": "2022-08-04T21:45:29.447787",
     "status": "completed"
    },
    "tags": []
   },
   "source": [
    "## Variable Importance"
   ]
  }
 ],
 "metadata": {
  "kernelspec": {
   "display_name": "Python 3",
   "language": "python",
   "name": "python3"
  },
  "language_info": {
   "codemirror_mode": {
    "name": "ipython",
    "version": 3
   },
   "file_extension": ".py",
   "mimetype": "text/x-python",
   "name": "python",
   "nbconvert_exporter": "python",
   "pygments_lexer": "ipython3",
   "version": "3.7.12"
  },
  "papermill": {
   "default_parameters": {},
   "duration": 9.854195,
   "end_time": "2022-08-04T21:45:30.072891",
   "environment_variables": {},
   "exception": null,
   "input_path": "__notebook__.ipynb",
   "output_path": "__notebook__.ipynb",
   "parameters": {},
   "start_time": "2022-08-04T21:45:20.218696",
   "version": "2.3.4"
  }
 },
 "nbformat": 4,
 "nbformat_minor": 5
}
